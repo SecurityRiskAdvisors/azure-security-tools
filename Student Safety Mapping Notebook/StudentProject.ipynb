{
  "cells": [
    {
      "cell_type": "markdown",
      "metadata": {},
      "source": [
        "# Student Life Safety Search Notebook"
      ]
    },
    {
      "cell_type": "markdown",
      "metadata": {
        "nteract": {
          "transient": {
            "deleting": false
          }
        }
      },
      "source": [
        "## Load libraries and requirements\n",
        "- run pip libraries once then comment out once installed"
      ]
    },
    {
      "cell_type": "code",
      "execution_count": null,
      "metadata": {
        "gather": {
          "logged": 1730926504928
        },
        "jupyter": {
          "outputs_hidden": false
        }
      },
      "outputs": [],
      "source": [
        "#Run these once to make sure you have libraries installed, then can comment out\n",
        "#%pip install --upgrade msticpy\n",
        "#%pip install pandas\n",
        "#%pip install azure-kusto-data\n",
        "\n",
        "import ipywidgets as widgets\n",
        "import msticpy\n",
        "import time\n",
        "import json\n",
        "import pandas as pd\n",
        "\n",
        "from IPython.display import display, HTML\n",
        "from azure.kusto.data import KustoClient, KustoConnectionStringBuilder\n",
        "from azure.kusto.data.exceptions import KustoServiceError\n",
        "from azure.kusto.data.helpers import dataframe_from_result_table\n",
        "from datetime import datetime, timedelta\n",
        "\n",
        "\n",
        "msticpy.init_notebook(\n",
        "    namespace=globals(),\n",
        "    verbosity=0,\n",
        ");\n",
        "\n"
      ]
    },
    {
      "cell_type": "markdown",
      "metadata": {
        "nteract": {
          "transient": {
            "deleting": false
          }
        }
      },
      "source": [
        "## Begin Search - Username and Time Window\n",
        "- Generate a user interface and selectors to search for our user and time window"
      ]
    },
    {
      "cell_type": "code",
      "execution_count": null,
      "metadata": {
        "gather": {
          "logged": 1730926522497
        },
        "jupyter": {
          "outputs_hidden": false,
          "source_hidden": false
        },
        "nteract": {
          "transient": {
            "deleting": false
          }
        }
      },
      "outputs": [],
      "source": [
        "#Create Username Search Field\n",
        "username = widgets.Text(value='', placeholder='Enter Username')\n",
        "# Display the dropdown\n",
        "print(\"Input Username and Time Search Range\")\n",
        "\n",
        "# Calculate default dates\n",
        "today = datetime.today()\n",
        "seven_days_ago = today - timedelta(days=7)\n",
        "\n",
        "# Create date pickers\n",
        "start_date_picker = widgets.DatePicker(\n",
        "    description='Start Date',\n",
        "    value=seven_days_ago.date()\n",
        ")\n",
        "finish_date_picker = widgets.DatePicker(\n",
        "    description='Finish Date',\n",
        "    value=today.date()\n",
        ")\n",
        "\n",
        "# Display the date pickers\n",
        "display(username, start_date_picker, finish_date_picker)\n",
        "\n",
        "\n"
      ]
    },
    {
      "cell_type": "markdown",
      "metadata": {
        "nteract": {
          "transient": {
            "deleting": false
          }
        }
      },
      "source": [
        "## Initialize Connection to Azure Data Explorer\n",
        " "
      ]
    },
    {
      "cell_type": "code",
      "execution_count": 3,
      "metadata": {
        "gather": {
          "logged": 1730926541545
        },
        "jupyter": {
          "outputs_hidden": false,
          "source_hidden": false
        },
        "nteract": {
          "transient": {
            "deleting": false
          }
        }
      },
      "outputs": [],
      "source": [
        "# Convert to datetime\n",
        "start_datetime = datetime.combine(start_date_picker.value, datetime.min.time())\n",
        "finish_datetime = datetime.combine(finish_date_picker.value, datetime.min.time())\n",
        "\n",
        "# Add your ADX Cluster Information Here\n",
        "AAD_TENANT_ID = \"Your Azure Tenant ID\"\n",
        "KUSTO_CLUSTER = \"Your ADX Cluster base URL\"\n",
        "KUSTO_DATABASE = \"Your ADX Database Name\"\n",
        "\n",
        "KCSB = KustoConnectionStringBuilder.with_aad_device_authentication(KUSTO_CLUSTER)\n",
        "KCSB.authority_id = AAD_TENANT_ID\n",
        "\n",
        "KUSTO_CLIENT = KustoClient(KCSB)"
      ]
    },
    {
      "cell_type": "markdown",
      "metadata": {
        "nteract": {
          "transient": {
            "deleting": false
          }
        }
      },
      "source": [
        "## Query ADX for Radius Logs: Username->MAC Address\n",
        "- getting radius logs from an external data lake source as they don't typically need to reside in a SIEM\n",
        "- this will map our user to specific devices over the time window in question"
      ]
    },
    {
      "cell_type": "code",
      "execution_count": null,
      "metadata": {
        "gather": {
          "logged": 1730926579137
        },
        "jupyter": {
          "outputs_hidden": false,
          "source_hidden": false
        },
        "nteract": {
          "transient": {
            "deleting": false
          }
        }
      },
      "outputs": [],
      "source": [
        "radiuskql = f\"radius \\\n",
        "| where timestamp > datetime({start_datetime}) \\\n",
        "| where timestamp < datetime({finish_datetime}) \\\n",
        "| where username == '{username.value}' \\\n",
        "| where isnotempty(source_mac) \\\n",
        "| distinct source_mac\"\n",
        "\n",
        "print(radiuskql)\n",
        "\n",
        "radiusResponse = KUSTO_CLIENT.execute(KUSTO_DATABASE, radiuskql)\n",
        "\n",
        "macaddresses = dataframe_from_result_table(radiusResponse.primary_results[0])\n",
        "macaddresses\n",
        "\n",
        "mac_list = \", \".join(f\"'{value}'\" for value in macaddresses[\"source_mac\"])\n",
        "mac_list\n",
        "print(\"MAC Address list for the selected user is complete.  Now move on to search for WAP Authentication Events.\")"
      ]
    },
    {
      "cell_type": "markdown",
      "metadata": {
        "nteract": {
          "transient": {
            "deleting": false
          }
        }
      },
      "source": [
        "## Connect to Microsoft Sentinel"
      ]
    },
    {
      "cell_type": "code",
      "execution_count": null,
      "metadata": {
        "gather": {
          "logged": 1730926586778
        },
        "jupyter": {
          "outputs_hidden": false
        }
      },
      "outputs": [],
      "source": [
        "#%pip install msticpy[azure]\n",
        "from msticpy.data.azure import MicrosoftSentinel\n",
        "microsoft_sentinel = MicrosoftSentinel()\n",
        "microsoft_sentinel.connect()\n",
        "print(\"Successfully connected to Azure Sentinel\")"
      ]
    },
    {
      "cell_type": "markdown",
      "metadata": {
        "nteract": {
          "transient": {
            "deleting": false
          }
        }
      },
      "source": [
        "## Search Sentinel for Aruba Wireless matching MAC Addresses\n",
        "- based on Aruba Analytics and Location Engine (ALE)\n",
        "- this will apply our user's observed devices across physical wireless access points, including likely distance from decibel levels"
      ]
    },
    {
      "cell_type": "code",
      "execution_count": null,
      "metadata": {
        "gather": {
          "logged": 1730926629849
        },
        "jupyter": {
          "outputs_hidden": false,
          "source_hidden": false
        },
        "nteract": {
          "transient": {
            "deleting": false
          }
        }
      },
      "outputs": [],
      "source": [
        "arubakql = f\"arubaALE_CL \\\n",
        "| where timestamp_t > datetime({start_datetime}) \\\n",
        "| where timestamp_t < datetime({finish_datetime}) \\\n",
        "| where ['CLIENT_MAC_s'] in ({mac_list})\"\n",
        "\n",
        "qry_prov = QueryProvider(\"MSSentinel\")\n",
        "qry_prov.connect(WorkspaceConfig())\n",
        "wireless_results = qry_prov.exec_query(arubakql)\n",
        "print(\"Wireless log search complete and loaded\")\n",
        "wireless_results"
      ]
    },
    {
      "cell_type": "markdown",
      "metadata": {
        "nteract": {
          "transient": {
            "deleting": false
          }
        }
      },
      "source": [
        "## Search Sentinel for Building Access Logs\n",
        "- based on Lenel system access logs"
      ]
    },
    {
      "cell_type": "code",
      "execution_count": null,
      "metadata": {
        "gather": {
          "logged": 1730926671862
        }
      },
      "outputs": [],
      "source": [
        "buildingkql = f\"buildingaccess_CL \\\n",
        "| where eventtime_t > datetime({start_datetime}) \\\n",
        "| where eventtime_t < datetime({finish_datetime}) \\\n",
        "| where user_s == '{username.value}'\"\n",
        "\n",
        "qry_prov = QueryProvider(\"MSSentinel\")\n",
        "qry_prov.connect(WorkspaceConfig())\n",
        "buildinglogs_results = qry_prov.exec_query(buildingkql)\n",
        "print(\"Building log search complete and loaded\")\n",
        "buildinglogs_results"
      ]
    },
    {
      "cell_type": "markdown",
      "metadata": {
        "nteract": {
          "transient": {
            "deleting": false
          }
        }
      },
      "source": [
        "## Retrieve GPS Coordinates of Wireless Devices and Building Access Points\n",
        "- we utilize a Sentinel watchlist for this storage; many other options may exist"
      ]
    },
    {
      "cell_type": "code",
      "execution_count": null,
      "metadata": {
        "gather": {
          "logged": 1730926698835
        },
        "jupyter": {
          "outputs_hidden": false,
          "source_hidden": false
        },
        "nteract": {
          "transient": {
            "deleting": false
          }
        }
      },
      "outputs": [],
      "source": [
        "gpskql = \"Watchlist \\\n",
        "| where WatchlistAlias == 'devicegpslookup' \\\n",
        "| where isnotnull(WatchlistItem)\"\n",
        "\n",
        "qry_prov = QueryProvider(\"MSSentinel\")\n",
        "qry_prov.connect(WorkspaceConfig())\n",
        "gps_results = qry_prov.exec_query(gpskql)\n",
        "print(\"Search Complete and Loaded\")\n",
        "gps_results"
      ]
    },
    {
      "cell_type": "markdown",
      "metadata": {
        "nteract": {
          "transient": {
            "deleting": false
          }
        }
      },
      "source": [
        "## Join GPS data with wireless and building logs\n",
        "- use panda dataframes to join data and assemble timeline"
      ]
    },
    {
      "cell_type": "code",
      "execution_count": 9,
      "metadata": {
        "gather": {
          "logged": 1730926707145
        },
        "jupyter": {
          "outputs_hidden": false,
          "source_hidden": false
        },
        "nteract": {
          "transient": {
            "deleting": false
          }
        }
      },
      "outputs": [],
      "source": [
        "#Unpack the JSON Object of 'WatchlistItem' into discrete fields within a panda dataframe object\n",
        "gpsItems = pd.json_normalize(gps_results['WatchlistItem'].apply(json.loads))\n",
        "\n",
        "#Merge Data for physical access timeline\n",
        "physicaltimeline = pd.merge(gpsItems, buildinglogs_results, how='inner', on='device_s')\n",
        "\n",
        "#Merge Data for wireless access timeline\n",
        "wirelesstimeline = pd.merge(gpsItems, wireless_results, how='inner', left_on='device_s', right_on='AP_MAC_s')"
      ]
    },
    {
      "cell_type": "markdown",
      "metadata": {
        "nteract": {
          "transient": {
            "deleting": false
          }
        }
      },
      "source": [
        "## Visualize Event Timeline\n",
        "- using folium maps"
      ]
    },
    {
      "cell_type": "code",
      "execution_count": null,
      "metadata": {
        "gather": {
          "logged": 1730926718257
        },
        "jupyter": {
          "outputs_hidden": false,
          "source_hidden": false
        },
        "nteract": {
          "transient": {
            "deleting": false
          }
        }
      },
      "outputs": [],
      "source": [
        "import folium\n",
        "from folium.plugins import TimestampedGeoJson\n",
        "\n",
        "\n",
        "campus_map = folium.Map(location=[43.12974644470927, -77.63196881262273], zoom_start=17)\n",
        "\n",
        "# Sort by 'date' in ascending order\n",
        "physicaltimeline = physicaltimeline.sort_values(by='eventtime_t')\n",
        "physicaltimeline = physicaltimeline.reset_index(drop=True)\n",
        "wirelesstimeline = wirelesstimeline.sort_values(by='timestamp_t')\n",
        "wirelesstimeline = wirelesstimeline.reset_index(drop=True)\n",
        "\n",
        "# These functions will be used to scale colors across the timeslice we select\n",
        "def hex_to_rgb(hex_color):\n",
        "    # Convert hex color to an RGB tuple\n",
        "    hex_color = hex_color.lstrip('#')\n",
        "    return tuple(int(hex_color[i:i+2], 16) for i in (0, 2, 4))\n",
        "\n",
        "def rgb_to_hex(rgb_color):\n",
        "    # Convert an RGB tuple to a hex color\n",
        "    return '#{:02x}{:02x}{:02x}'.format(*rgb_color)\n",
        "\n",
        "def interpolate_colors(start_hex, end_hex, steps):\n",
        "    # Convert start and end colors to RGB\n",
        "    start_rgb = hex_to_rgb(start_hex)\n",
        "    end_rgb = hex_to_rgb(end_hex)\n",
        "\n",
        "    # Calculate the incremental change for each channel\n",
        "    delta = [(end - start) / (steps - 1) for start, end in zip(start_rgb, end_rgb)]\n",
        "\n",
        "    # Generate colors\n",
        "    gradient = []\n",
        "    for step in range(steps):\n",
        "        # Calculate intermediate color by adding the increment times the step number\n",
        "        intermediate_rgb = [\n",
        "            int(start + delta_value * step) for start, delta_value in zip(start_rgb, delta)\n",
        "        ]\n",
        "        gradient.append(rgb_to_hex(intermediate_rgb))\n",
        "    \n",
        "    return gradient\n",
        "\n",
        "\n",
        "lines = []\n",
        "n = len(physicaltimeline)\n",
        "#Feel free to pick your favorite colors here, it will scale from the start to the end in equal changes across your timeslice\n",
        "start_hex = \"#83f20c\"  # Starting color\n",
        "end_hex = \"#023d24\"    # Ending color\n",
        "gradient = interpolate_colors(start_hex, end_hex, n)\n",
        "\n",
        "#iterate through our physical badge swipe timeline and plot each progressive point on our map\n",
        "for index, row in physicaltimeline.iterrows():\n",
        "    if index == 0:\n",
        "        lastlat, lastlong, lasttime = row['latitude'], row['longitude'], str(row['eventtime_t'])\n",
        "        continue\n",
        "    elif index == 1:\n",
        "        curlat, curlong, curtime = row['latitude'], row['longitude'], str(row['eventtime_t'])\n",
        "    else:\n",
        "        lastlat, lastlong, lasttime = curlat, curlong, curtime\n",
        "        curlat, curlong, curtime = row['latitude'], row['longitude'], str(row['eventtime_t'])\n",
        "    \n",
        "    # This puts the line on the map, with the current and previous waypoints.  Lots of options exist in folium to add additional data to the mapping!\n",
        "    lines.append({\n",
        "        \"coordinates\": [\n",
        "            [float(lastlong), float(lastlat)],\n",
        "            [float(curlong), float(curlat)],\n",
        "        ],\n",
        "        \"message\":\"Badge Access - \" + row['device_s'] + '-' + row['event_s'],\n",
        "        \"dates\": [lasttime, curtime],\n",
        "        \"color\": gradient[index],\n",
        "    })\n",
        "\n",
        "n = len(wirelesstimeline)\n",
        "start_hex = \"#00faed\"  # Starting color\n",
        "end_hex = \"#130659\"    # Ending color\n",
        "gradient = interpolate_colors(start_hex, end_hex, n)\n",
        "\n",
        "#iterate through our network log timeline and plot each progressive point on our map\n",
        "for index, row in wirelesstimeline.iterrows():\n",
        "    if index == 0:\n",
        "        lastlat, lastlong, lasttime = row['latitude'], row['longitude'], str(row['timestamp_t'])\n",
        "        continue\n",
        "    elif index == 1:\n",
        "        curlat, curlong, curtime = row['latitude'], row['longitude'], str(row['timestamp_t'])\n",
        "    else:\n",
        "        lastlat, lastlong, lasttime = curlat, curlong, curtime\n",
        "        curlat, curlong, curtime = row['latitude'], row['longitude'], str(row['timestamp_t'])\n",
        "    \n",
        "    # This puts the line on the map, with the current and previous waypoints.  Lots of options exist in folium to add additional data to the mapping!\n",
        "    lines.append({\n",
        "        \"coordinates\": [\n",
        "            [float(lastlong), float(lastlat)],\n",
        "            [float(curlong), float(curlat)],\n",
        "        ],\n",
        "        \"message\":\"Wireless SSID - \" + row['SSID_s'] + \" - \" + row['EVENT_s'],\n",
        "        \"dates\": [lasttime, curtime],\n",
        "        \"color\": gradient[index],\n",
        "    })\n",
        "\n",
        "# Our features setup overall mapping configurations for the final display.  Lots more options available here as well\n",
        "features = [\n",
        "    {\n",
        "        \"type\": \"Feature\",\n",
        "        \"geometry\": {\n",
        "            \"type\": \"LineString\",\n",
        "            \"coordinates\": line[\"coordinates\"],\n",
        "        },\n",
        "        \"properties\": {\n",
        "            \"popup\": line[\"message\"],\n",
        "            \"times\": line[\"dates\"],\n",
        "            \"style\": {\n",
        "                \"color\": line[\"color\"],\n",
        "                \"weight\": line[\"weight\"] if \"weight\" in line else 3,\n",
        "            },\n",
        "        },\n",
        "    }\n",
        "    for line in lines\n",
        "]\n",
        "\n",
        "folium.plugins.TimestampedGeoJson(\n",
        "    {\n",
        "        \"type\": \"FeatureCollection\",\n",
        "        \"features\": features,\n",
        "    },\n",
        "    period=\"PT5M\",\n",
        "    add_last_point=True,\n",
        ").add_to(campus_map)\n",
        "\n",
        "print(\"Wireless logs shown in green, building logs shown in blue.  Both get gradually darker over time.\")\n",
        "#display our map!\n",
        "campus_map"
      ]
    },
    {
      "cell_type": "markdown",
      "metadata": {
        "nteract": {
          "transient": {
            "deleting": false
          }
        }
      },
      "source": [
        "## Export Datasets"
      ]
    },
    {
      "cell_type": "code",
      "execution_count": null,
      "metadata": {
        "gather": {
          "logged": 1730926998296
        },
        "jupyter": {
          "outputs_hidden": false,
          "source_hidden": false
        },
        "nteract": {
          "transient": {
            "deleting": false
          }
        }
      },
      "outputs": [],
      "source": [
        "# Save DataFrame to CSV\n",
        "physicaltimeline.to_csv('physicaltimeline.csv', index=False)\n",
        "wirelesstimeline.to_csv('wirelesstimeline.csv', index=False)\n",
        "print(\"See generated files in file explorer on the left!  You may need to refresh the file viewer.\")"
      ]
    }
  ],
  "metadata": {
    "interpreter": {
      "hash": "8d09662bfd52ca8b6b410a86d2cd870e6fac48c0484ffa10f489a1bb5cd6642a"
    },
    "kernel_info": {
      "name": "python310-sdkv2"
    },
    "kernelspec": {
      "display_name": "Python 3.10 - SDK v2",
      "language": "python",
      "name": "python310-sdkv2"
    },
    "language_info": {
      "codemirror_mode": {
        "name": "ipython",
        "version": 3
      },
      "file_extension": ".py",
      "mimetype": "text/x-python",
      "name": "python",
      "nbconvert_exporter": "python",
      "pygments_lexer": "ipython3",
      "version": "3.10.14"
    },
    "microsoft": {
      "host": {
        "AzureML": {
          "notebookHasBeenCompleted": true
        }
      },
      "ms_spell_check": {
        "ms_spell_check_language": "en"
      }
    },
    "nteract": {
      "version": "nteract-front-end@1.0.0"
    }
  },
  "nbformat": 4,
  "nbformat_minor": 2
}
